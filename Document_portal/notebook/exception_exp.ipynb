{
 "cells": [
  {
   "cell_type": "code",
   "execution_count": null,
   "id": "6851b83e",
   "metadata": {},
   "outputs": [],
   "source": [
    "import sys\n",
    "import traceback"
   ]
  },
  {
   "cell_type": "code",
   "execution_count": null,
   "id": "985a221c",
   "metadata": {},
   "outputs": [
    {
     "name": "stderr",
     "output_type": "stream",
     "text": [
      "\n",
      "Error in [C:\\Users\\amanm\\AppData\\Local\\Temp\\ipykernel_11108\\4253368891.py] at line [24]\n",
      "Message: [division by zero]\n",
      "Traceback (most recent call last):\n",
      "  File \"C:\\Users\\amanm\\AppData\\Local\\Temp\\ipykernel_11108\\4253368891.py\", line 24, in <module>\n",
      "    a = 1/0\n",
      "        ~^~\n",
      "ZeroDivisionError: division by zero\n",
      "\n",
      "\n"
     ]
    },
    {
     "ename": "Document_Portal_Exception",
     "evalue": "\nError in [C:\\Users\\amanm\\AppData\\Local\\Temp\\ipykernel_11108\\4253368891.py] at line [24]\nMessage: [division by zero]\nTraceback (most recent call last):\n  File \"C:\\Users\\amanm\\AppData\\Local\\Temp\\ipykernel_11108\\4253368891.py\", line 24, in <module>\n    a = 1/0\n        ~^~\nZeroDivisionError: division by zero\n\n",
     "output_type": "error",
     "traceback": [
      "\u001b[31m---------------------------------------------------------------------------\u001b[39m",
      "\u001b[31mZeroDivisionError\u001b[39m                         Traceback (most recent call last)",
      "\u001b[36mCell\u001b[39m\u001b[36m \u001b[39m\u001b[32mIn[5]\u001b[39m\u001b[32m, line 24\u001b[39m\n\u001b[32m     23\u001b[39m \u001b[38;5;28;01mtry\u001b[39;00m:\n\u001b[32m---> \u001b[39m\u001b[32m24\u001b[39m     a = \u001b[32;43m1\u001b[39;49m\u001b[43m/\u001b[49m\u001b[32;43m0\u001b[39;49m\n\u001b[32m     25\u001b[39m     \u001b[38;5;28mprint\u001b[39m(a)\n",
      "\u001b[31mZeroDivisionError\u001b[39m: division by zero",
      "\nDuring handling of the above exception, another exception occurred:\n",
      "\u001b[31mDocument_Portal_Exception\u001b[39m                 Traceback (most recent call last)",
      "\u001b[36mCell\u001b[39m\u001b[36m \u001b[39m\u001b[32mIn[5]\u001b[39m\u001b[32m, line 29\u001b[39m\n\u001b[32m     27\u001b[39m app_exc =  Document_Portal_Exception(e, sys)\n\u001b[32m     28\u001b[39m logger.error(app_exc)\n\u001b[32m---> \u001b[39m\u001b[32m29\u001b[39m \u001b[38;5;28;01mraise\u001b[39;00m app_exc\n",
      "\u001b[31mDocument_Portal_Exception\u001b[39m: \nError in [C:\\Users\\amanm\\AppData\\Local\\Temp\\ipykernel_11108\\4253368891.py] at line [24]\nMessage: [division by zero]\nTraceback (most recent call last):\n  File \"C:\\Users\\amanm\\AppData\\Local\\Temp\\ipykernel_11108\\4253368891.py\", line 24, in <module>\n    a = 1/0\n        ~^~\nZeroDivisionError: division by zero\n\n"
     ]
    }
   ],
   "source": [
    "import sys\n",
    "import traceback\n",
    "import os.path\n",
    "import sys\n",
    "sys.path.append(os.path.join(os.path.dirname(__file__), '..'))\n",
    "from logger.custom_logging import CustomLogger\n",
    "logger  = CustomLogger.get_logger(\"exception_experiment\")\n",
    "class Document_Portal_Exception(Exception):\n",
    "    \"\"\"Custom excution for Document Portal\"\"\"\n",
    "    def __init__(self, error_message, error_detail:sys):\n",
    "        _,_,exc_tb = error_detail.exc_info()\n",
    "        self.file_name = exc_tb.tb_frame.f_code.co_filename\n",
    "        self.lineno = exc_tb.tb_lineno\n",
    "        self.error_message = str(error_message)\n",
    "        self.traceback_str = ''.join(traceback.format_exception(*error_detail.exc_info()))\n",
    "\n",
    "    def __str__(self):\n",
    "        return f\"\"\"\n",
    "Error in [{self.file_name}] at line [{self.lineno}]\n",
    "Message: [{self.error_message}]\n",
    "{self.traceback_str}\n",
    "\"\"\"\n",
    "\n",
    "if __name__ == \"__main__\":\n",
    "    try:\n",
    "        a = 1/0\n",
    "        print(a)\n",
    "    except Exception as e:\n",
    "        app_exc =  Document_Portal_Exception(e, sys)\n",
    "        logger.error(app_exc)\n",
    "        raise app_exc\n",
    "        "
   ]
  },
  {
   "cell_type": "code",
   "execution_count": null,
   "id": "9893a7a2",
   "metadata": {},
   "outputs": [],
   "source": []
  },
  {
   "cell_type": "code",
   "execution_count": null,
   "id": "1d4ac73b",
   "metadata": {},
   "outputs": [],
   "source": [
    "import os\n",
    "os.getcwd()"
   ]
  },
  {
   "cell_type": "code",
   "execution_count": null,
   "id": "95cd479f",
   "metadata": {},
   "outputs": [],
   "source": []
  },
  {
   "cell_type": "code",
   "execution_count": null,
   "id": "24fd5693",
   "metadata": {},
   "outputs": [],
   "source": []
  }
 ],
 "metadata": {
  "kernelspec": {
   "display_name": "venvllops",
   "language": "python",
   "name": "python3"
  },
  "language_info": {
   "codemirror_mode": {
    "name": "ipython",
    "version": 3
   },
   "file_extension": ".py",
   "mimetype": "text/x-python",
   "name": "python",
   "nbconvert_exporter": "python",
   "pygments_lexer": "ipython3",
   "version": "3.12.0"
  }
 },
 "nbformat": 4,
 "nbformat_minor": 5
}
